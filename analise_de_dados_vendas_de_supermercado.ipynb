{
  "nbformat": 4,
  "nbformat_minor": 0,
  "metadata": {
    "colab": {
      "provenance": [],
      "mount_file_id": "1XA_yD_mkWuotzdkwrUuVLvrZIB3qksGb",
      "authorship_tag": "ABX9TyPVVqxUNTzRY1X7PEtko2iT",
      "include_colab_link": true
    },
    "kernelspec": {
      "name": "python3",
      "display_name": "Python 3"
    },
    "language_info": {
      "name": "python"
    }
  },
  "cells": [
    {
      "cell_type": "markdown",
      "metadata": {
        "id": "view-in-github",
        "colab_type": "text"
      },
      "source": [
        "<a href=\"https://colab.research.google.com/github/EdvaldoFilhoPro/Vendas_de_supermercado/blob/main/analise_de_dados_vendas_de_supermercado.ipynb\" target=\"_parent\"><img src=\"https://colab.research.google.com/assets/colab-badge.svg\" alt=\"Open In Colab\"/></a>"
      ]
    },
    {
      "cell_type": "markdown",
      "source": [
        "# Vendas de supermercado\n",
        "\n",
        "**Registro histórico de dados de vendas em 3 supermercados diferentes**\n",
        "\n",
        "**Sobre o conjunto de dados**\n",
        "\n",
        "***Contexto***\n",
        "\n",
        "*O crescimento dos supermercados nas cidades mais populosas está aumentando e as competições de mercado também são altas. O conjunto de dados é uma das vendas históricas da empresa de supermercados que registrou dados em 3 filiais diferentes por 3 meses. Os métodos de análise preditiva de dados são fáceis de aplicar com este conjunto de dados.*\n",
        "\n",
        "https://www.kaggle.com/datasets/aungpyaeap/supermarket-sales"
      ],
      "metadata": {
        "id": "drgfFx3QCZW-"
      }
    },
    {
      "cell_type": "markdown",
      "source": [
        "### Importação das bibliotecas e base de dados"
      ],
      "metadata": {
        "id": "396ThUhIDXnZ"
      }
    },
    {
      "cell_type": "markdown",
      "source": [
        "> Este código em Python tem como objetivo ler um arquivo CSV de vendas de supermercado, pré-processar e explorar os dados. A seguir, uma explicação linha a linha:"
      ],
      "metadata": {
        "id": "CuN2rCjRhJZ6"
      }
    },
    {
      "cell_type": "code",
      "execution_count": null,
      "metadata": {
        "id": "objhBzTJCY1K"
      },
      "outputs": [],
      "source": [
        "import pandas as pd\n",
        "import numpy as np\n",
        "import seaborn as sns\n",
        "import matplotlib.pyplot as plt\n",
        "import datetime"
      ]
    },
    {
      "cell_type": "markdown",
      "source": [
        "> Nesta seção, estamos importando as bibliotecas que serão utilizadas no script. `pandas` é uma biblioteca para manipulação de dados, `numpy`é uma biblioteca para operações matemáticas, `seaborn `é uma biblioteca para visualização de dados, `matplotlib` é uma biblioteca para criação de gráficos e `datetime` é uma biblioteca para manipulação de datas e horas."
      ],
      "metadata": {
        "id": "n1QhYwKwiFx3"
      }
    },
    {
      "cell_type": "markdown",
      "source": [
        "### Dados de vendas"
      ],
      "metadata": {
        "id": "zbHCtczFDtXp"
      }
    },
    {
      "cell_type": "markdown",
      "source": [
        "> Aqui, estamos lendo o arquivo CSV de vendas de supermercado utilizando o método `read_csv` da biblioteca pandas. O arquivo está localizado em `/content/supermarket_sales.csv` e será armazenado na variável `vendas_df`."
      ],
      "metadata": {
        "id": "k7JyIXSwijZi"
      }
    },
    {
      "cell_type": "code",
      "source": [
        "vendas_df = pd.read_csv('/content/supermarket_sales.csv')"
      ],
      "metadata": {
        "id": "G6VcUe-uDp8M"
      },
      "execution_count": null,
      "outputs": []
    },
    {
      "cell_type": "markdown",
      "source": [
        "> O método `head `da variável `vendas_df` exibe as cinco primeiras linhas do conjunto de dados. Isso nos ajuda a ter uma ideia geral de como os dados estão organizados."
      ],
      "metadata": {
        "id": "sqSyqsLyo8he"
      }
    },
    {
      "cell_type": "code",
      "source": [
        "vendas_df.head()"
      ],
      "metadata": {
        "colab": {
          "base_uri": "https://localhost:8080/",
          "height": 354
        },
        "id": "Zpif-0EyEr0Y",
        "outputId": "3c1168ca-7bef-4901-f3c0-cf0d63e336fa"
      },
      "execution_count": null,
      "outputs": [
        {
          "output_type": "execute_result",
          "data": {
            "text/plain": [
              "    Invoice ID Branch       City Customer type  Gender  \\\n",
              "0  750-67-8428      A     Yangon        Member  Female   \n",
              "1  226-31-3081      C  Naypyitaw        Normal  Female   \n",
              "2  631-41-3108      A     Yangon        Normal    Male   \n",
              "3  123-19-1176      A     Yangon        Member    Male   \n",
              "4  373-73-7910      A     Yangon        Normal    Male   \n",
              "\n",
              "             Product line  Unit price  Quantity   Tax 5%     Total       Date  \\\n",
              "0       Health and beauty       74.69         7  26.1415  548.9715   1/5/2019   \n",
              "1  Electronic accessories       15.28         5   3.8200   80.2200   3/8/2019   \n",
              "2      Home and lifestyle       46.33         7  16.2155  340.5255   3/3/2019   \n",
              "3       Health and beauty       58.22         8  23.2880  489.0480  1/27/2019   \n",
              "4       Sports and travel       86.31         7  30.2085  634.3785   2/8/2019   \n",
              "\n",
              "    Time      Payment    cogs  gross margin percentage  gross income  Rating  \n",
              "0  13:08      Ewallet  522.83                 4.761905       26.1415     9.1  \n",
              "1  10:29         Cash   76.40                 4.761905        3.8200     9.6  \n",
              "2  13:23  Credit card  324.31                 4.761905       16.2155     7.4  \n",
              "3  20:33      Ewallet  465.76                 4.761905       23.2880     8.4  \n",
              "4  10:37      Ewallet  604.17                 4.761905       30.2085     5.3  "
            ],
            "text/html": [
              "\n",
              "  <div id=\"df-03fa90a7-18f8-450a-83a8-4bc71e766b55\">\n",
              "    <div class=\"colab-df-container\">\n",
              "      <div>\n",
              "<style scoped>\n",
              "    .dataframe tbody tr th:only-of-type {\n",
              "        vertical-align: middle;\n",
              "    }\n",
              "\n",
              "    .dataframe tbody tr th {\n",
              "        vertical-align: top;\n",
              "    }\n",
              "\n",
              "    .dataframe thead th {\n",
              "        text-align: right;\n",
              "    }\n",
              "</style>\n",
              "<table border=\"1\" class=\"dataframe\">\n",
              "  <thead>\n",
              "    <tr style=\"text-align: right;\">\n",
              "      <th></th>\n",
              "      <th>Invoice ID</th>\n",
              "      <th>Branch</th>\n",
              "      <th>City</th>\n",
              "      <th>Customer type</th>\n",
              "      <th>Gender</th>\n",
              "      <th>Product line</th>\n",
              "      <th>Unit price</th>\n",
              "      <th>Quantity</th>\n",
              "      <th>Tax 5%</th>\n",
              "      <th>Total</th>\n",
              "      <th>Date</th>\n",
              "      <th>Time</th>\n",
              "      <th>Payment</th>\n",
              "      <th>cogs</th>\n",
              "      <th>gross margin percentage</th>\n",
              "      <th>gross income</th>\n",
              "      <th>Rating</th>\n",
              "    </tr>\n",
              "  </thead>\n",
              "  <tbody>\n",
              "    <tr>\n",
              "      <th>0</th>\n",
              "      <td>750-67-8428</td>\n",
              "      <td>A</td>\n",
              "      <td>Yangon</td>\n",
              "      <td>Member</td>\n",
              "      <td>Female</td>\n",
              "      <td>Health and beauty</td>\n",
              "      <td>74.69</td>\n",
              "      <td>7</td>\n",
              "      <td>26.1415</td>\n",
              "      <td>548.9715</td>\n",
              "      <td>1/5/2019</td>\n",
              "      <td>13:08</td>\n",
              "      <td>Ewallet</td>\n",
              "      <td>522.83</td>\n",
              "      <td>4.761905</td>\n",
              "      <td>26.1415</td>\n",
              "      <td>9.1</td>\n",
              "    </tr>\n",
              "    <tr>\n",
              "      <th>1</th>\n",
              "      <td>226-31-3081</td>\n",
              "      <td>C</td>\n",
              "      <td>Naypyitaw</td>\n",
              "      <td>Normal</td>\n",
              "      <td>Female</td>\n",
              "      <td>Electronic accessories</td>\n",
              "      <td>15.28</td>\n",
              "      <td>5</td>\n",
              "      <td>3.8200</td>\n",
              "      <td>80.2200</td>\n",
              "      <td>3/8/2019</td>\n",
              "      <td>10:29</td>\n",
              "      <td>Cash</td>\n",
              "      <td>76.40</td>\n",
              "      <td>4.761905</td>\n",
              "      <td>3.8200</td>\n",
              "      <td>9.6</td>\n",
              "    </tr>\n",
              "    <tr>\n",
              "      <th>2</th>\n",
              "      <td>631-41-3108</td>\n",
              "      <td>A</td>\n",
              "      <td>Yangon</td>\n",
              "      <td>Normal</td>\n",
              "      <td>Male</td>\n",
              "      <td>Home and lifestyle</td>\n",
              "      <td>46.33</td>\n",
              "      <td>7</td>\n",
              "      <td>16.2155</td>\n",
              "      <td>340.5255</td>\n",
              "      <td>3/3/2019</td>\n",
              "      <td>13:23</td>\n",
              "      <td>Credit card</td>\n",
              "      <td>324.31</td>\n",
              "      <td>4.761905</td>\n",
              "      <td>16.2155</td>\n",
              "      <td>7.4</td>\n",
              "    </tr>\n",
              "    <tr>\n",
              "      <th>3</th>\n",
              "      <td>123-19-1176</td>\n",
              "      <td>A</td>\n",
              "      <td>Yangon</td>\n",
              "      <td>Member</td>\n",
              "      <td>Male</td>\n",
              "      <td>Health and beauty</td>\n",
              "      <td>58.22</td>\n",
              "      <td>8</td>\n",
              "      <td>23.2880</td>\n",
              "      <td>489.0480</td>\n",
              "      <td>1/27/2019</td>\n",
              "      <td>20:33</td>\n",
              "      <td>Ewallet</td>\n",
              "      <td>465.76</td>\n",
              "      <td>4.761905</td>\n",
              "      <td>23.2880</td>\n",
              "      <td>8.4</td>\n",
              "    </tr>\n",
              "    <tr>\n",
              "      <th>4</th>\n",
              "      <td>373-73-7910</td>\n",
              "      <td>A</td>\n",
              "      <td>Yangon</td>\n",
              "      <td>Normal</td>\n",
              "      <td>Male</td>\n",
              "      <td>Sports and travel</td>\n",
              "      <td>86.31</td>\n",
              "      <td>7</td>\n",
              "      <td>30.2085</td>\n",
              "      <td>634.3785</td>\n",
              "      <td>2/8/2019</td>\n",
              "      <td>10:37</td>\n",
              "      <td>Ewallet</td>\n",
              "      <td>604.17</td>\n",
              "      <td>4.761905</td>\n",
              "      <td>30.2085</td>\n",
              "      <td>5.3</td>\n",
              "    </tr>\n",
              "  </tbody>\n",
              "</table>\n",
              "</div>\n",
              "      <button class=\"colab-df-convert\" onclick=\"convertToInteractive('df-03fa90a7-18f8-450a-83a8-4bc71e766b55')\"\n",
              "              title=\"Convert this dataframe to an interactive table.\"\n",
              "              style=\"display:none;\">\n",
              "        \n",
              "  <svg xmlns=\"http://www.w3.org/2000/svg\" height=\"24px\"viewBox=\"0 0 24 24\"\n",
              "       width=\"24px\">\n",
              "    <path d=\"M0 0h24v24H0V0z\" fill=\"none\"/>\n",
              "    <path d=\"M18.56 5.44l.94 2.06.94-2.06 2.06-.94-2.06-.94-.94-2.06-.94 2.06-2.06.94zm-11 1L8.5 8.5l.94-2.06 2.06-.94-2.06-.94L8.5 2.5l-.94 2.06-2.06.94zm10 10l.94 2.06.94-2.06 2.06-.94-2.06-.94-.94-2.06-.94 2.06-2.06.94z\"/><path d=\"M17.41 7.96l-1.37-1.37c-.4-.4-.92-.59-1.43-.59-.52 0-1.04.2-1.43.59L10.3 9.45l-7.72 7.72c-.78.78-.78 2.05 0 2.83L4 21.41c.39.39.9.59 1.41.59.51 0 1.02-.2 1.41-.59l7.78-7.78 2.81-2.81c.8-.78.8-2.07 0-2.86zM5.41 20L4 18.59l7.72-7.72 1.47 1.35L5.41 20z\"/>\n",
              "  </svg>\n",
              "      </button>\n",
              "      \n",
              "  <style>\n",
              "    .colab-df-container {\n",
              "      display:flex;\n",
              "      flex-wrap:wrap;\n",
              "      gap: 12px;\n",
              "    }\n",
              "\n",
              "    .colab-df-convert {\n",
              "      background-color: #E8F0FE;\n",
              "      border: none;\n",
              "      border-radius: 50%;\n",
              "      cursor: pointer;\n",
              "      display: none;\n",
              "      fill: #1967D2;\n",
              "      height: 32px;\n",
              "      padding: 0 0 0 0;\n",
              "      width: 32px;\n",
              "    }\n",
              "\n",
              "    .colab-df-convert:hover {\n",
              "      background-color: #E2EBFA;\n",
              "      box-shadow: 0px 1px 2px rgba(60, 64, 67, 0.3), 0px 1px 3px 1px rgba(60, 64, 67, 0.15);\n",
              "      fill: #174EA6;\n",
              "    }\n",
              "\n",
              "    [theme=dark] .colab-df-convert {\n",
              "      background-color: #3B4455;\n",
              "      fill: #D2E3FC;\n",
              "    }\n",
              "\n",
              "    [theme=dark] .colab-df-convert:hover {\n",
              "      background-color: #434B5C;\n",
              "      box-shadow: 0px 1px 3px 1px rgba(0, 0, 0, 0.15);\n",
              "      filter: drop-shadow(0px 1px 2px rgba(0, 0, 0, 0.3));\n",
              "      fill: #FFFFFF;\n",
              "    }\n",
              "  </style>\n",
              "\n",
              "      <script>\n",
              "        const buttonEl =\n",
              "          document.querySelector('#df-03fa90a7-18f8-450a-83a8-4bc71e766b55 button.colab-df-convert');\n",
              "        buttonEl.style.display =\n",
              "          google.colab.kernel.accessAllowed ? 'block' : 'none';\n",
              "\n",
              "        async function convertToInteractive(key) {\n",
              "          const element = document.querySelector('#df-03fa90a7-18f8-450a-83a8-4bc71e766b55');\n",
              "          const dataTable =\n",
              "            await google.colab.kernel.invokeFunction('convertToInteractive',\n",
              "                                                     [key], {});\n",
              "          if (!dataTable) return;\n",
              "\n",
              "          const docLinkHtml = 'Like what you see? Visit the ' +\n",
              "            '<a target=\"_blank\" href=https://colab.research.google.com/notebooks/data_table.ipynb>data table notebook</a>'\n",
              "            + ' to learn more about interactive tables.';\n",
              "          element.innerHTML = '';\n",
              "          dataTable['output_type'] = 'display_data';\n",
              "          await google.colab.output.renderOutput(dataTable, element);\n",
              "          const docLink = document.createElement('div');\n",
              "          docLink.innerHTML = docLinkHtml;\n",
              "          element.appendChild(docLink);\n",
              "        }\n",
              "      </script>\n",
              "    </div>\n",
              "  </div>\n",
              "  "
            ]
          },
          "metadata": {},
          "execution_count": 6
        }
      ]
    },
    {
      "cell_type": "markdown",
      "source": [
        "> Aqui, estamos renomeando as colunas do conjunto de dados utilizando o método `rename` da biblioteca pandas. Isso é importante para que as colunas tenham nomes mais descritivos e fáceis de entender. Os novos nomes são passados como um dicionário onde a chave é o nome atual da coluna e o valor é o novo nome da coluna."
      ],
      "metadata": {
        "id": "iCVUqzgXqAnG"
      }
    },
    {
      "cell_type": "code",
      "source": [
        "vendas_df = vendas_df.rename(columns={'Invoice id': 'id_venda', 'Branch': 'filial', 'City': 'cidade', 'Customer type': 'tipo_cliente', 'Gender': 'genero',\n",
        "                                      'Product line': 'linha_produto', 'Unit price': 'preco_unitario', 'Quantity': 'quantidade', 'Tax 5%': 'Imposto 5%',\n",
        "                                      'Total': 'total', 'Date': 'data', 'Time': 'hora', 'Payment': 'pagamento', 'cogs': 'custo_total', 'gross margin percentage': 'margem_bruta',\n",
        "                                      'gross income':'renda_bruta', 'Rating': 'avaliacao' }) "
      ],
      "metadata": {
        "id": "gRngBWGpIrGv"
      },
      "execution_count": null,
      "outputs": []
    },
    {
      "cell_type": "markdown",
      "source": [
        "> O método `describe` da variável `vendas_df` retorna uma estatística descritiva do conjunto de dados. Isso inclui informações como a contagem, a média, o desvio padrão, o valor mínimo e máximo, e os quartis dos dados numéricos."
      ],
      "metadata": {
        "id": "cYzDsfoZqWeG"
      }
    },
    {
      "cell_type": "code",
      "source": [
        "vendas_df.describe()"
      ],
      "metadata": {
        "colab": {
          "base_uri": "https://localhost:8080/",
          "height": 300
        },
        "id": "xcZG-CFnAba_",
        "outputId": "c3a99096-07bc-47aa-a258-cf0f3e509534"
      },
      "execution_count": null,
      "outputs": [
        {
          "output_type": "execute_result",
          "data": {
            "text/plain": [
              "       preco_unitario   quantidade   Imposto 5%        total  custo_total  \\\n",
              "count     1000.000000  1000.000000  1000.000000  1000.000000   1000.00000   \n",
              "mean        55.672130     5.510000    15.379369   322.966749    307.58738   \n",
              "std         26.494628     2.923431    11.708825   245.885335    234.17651   \n",
              "min         10.080000     1.000000     0.508500    10.678500     10.17000   \n",
              "25%         32.875000     3.000000     5.924875   124.422375    118.49750   \n",
              "50%         55.230000     5.000000    12.088000   253.848000    241.76000   \n",
              "75%         77.935000     8.000000    22.445250   471.350250    448.90500   \n",
              "max         99.960000    10.000000    49.650000  1042.650000    993.00000   \n",
              "\n",
              "       margem_bruta  renda_bruta   avaliacao  \n",
              "count   1000.000000  1000.000000  1000.00000  \n",
              "mean       4.761905    15.379369     6.97270  \n",
              "std        0.000000    11.708825     1.71858  \n",
              "min        4.761905     0.508500     4.00000  \n",
              "25%        4.761905     5.924875     5.50000  \n",
              "50%        4.761905    12.088000     7.00000  \n",
              "75%        4.761905    22.445250     8.50000  \n",
              "max        4.761905    49.650000    10.00000  "
            ],
            "text/html": [
              "\n",
              "  <div id=\"df-01756118-f204-4901-8a23-8492231a7977\">\n",
              "    <div class=\"colab-df-container\">\n",
              "      <div>\n",
              "<style scoped>\n",
              "    .dataframe tbody tr th:only-of-type {\n",
              "        vertical-align: middle;\n",
              "    }\n",
              "\n",
              "    .dataframe tbody tr th {\n",
              "        vertical-align: top;\n",
              "    }\n",
              "\n",
              "    .dataframe thead th {\n",
              "        text-align: right;\n",
              "    }\n",
              "</style>\n",
              "<table border=\"1\" class=\"dataframe\">\n",
              "  <thead>\n",
              "    <tr style=\"text-align: right;\">\n",
              "      <th></th>\n",
              "      <th>preco_unitario</th>\n",
              "      <th>quantidade</th>\n",
              "      <th>Imposto 5%</th>\n",
              "      <th>total</th>\n",
              "      <th>custo_total</th>\n",
              "      <th>margem_bruta</th>\n",
              "      <th>renda_bruta</th>\n",
              "      <th>avaliacao</th>\n",
              "    </tr>\n",
              "  </thead>\n",
              "  <tbody>\n",
              "    <tr>\n",
              "      <th>count</th>\n",
              "      <td>1000.000000</td>\n",
              "      <td>1000.000000</td>\n",
              "      <td>1000.000000</td>\n",
              "      <td>1000.000000</td>\n",
              "      <td>1000.00000</td>\n",
              "      <td>1000.000000</td>\n",
              "      <td>1000.000000</td>\n",
              "      <td>1000.00000</td>\n",
              "    </tr>\n",
              "    <tr>\n",
              "      <th>mean</th>\n",
              "      <td>55.672130</td>\n",
              "      <td>5.510000</td>\n",
              "      <td>15.379369</td>\n",
              "      <td>322.966749</td>\n",
              "      <td>307.58738</td>\n",
              "      <td>4.761905</td>\n",
              "      <td>15.379369</td>\n",
              "      <td>6.97270</td>\n",
              "    </tr>\n",
              "    <tr>\n",
              "      <th>std</th>\n",
              "      <td>26.494628</td>\n",
              "      <td>2.923431</td>\n",
              "      <td>11.708825</td>\n",
              "      <td>245.885335</td>\n",
              "      <td>234.17651</td>\n",
              "      <td>0.000000</td>\n",
              "      <td>11.708825</td>\n",
              "      <td>1.71858</td>\n",
              "    </tr>\n",
              "    <tr>\n",
              "      <th>min</th>\n",
              "      <td>10.080000</td>\n",
              "      <td>1.000000</td>\n",
              "      <td>0.508500</td>\n",
              "      <td>10.678500</td>\n",
              "      <td>10.17000</td>\n",
              "      <td>4.761905</td>\n",
              "      <td>0.508500</td>\n",
              "      <td>4.00000</td>\n",
              "    </tr>\n",
              "    <tr>\n",
              "      <th>25%</th>\n",
              "      <td>32.875000</td>\n",
              "      <td>3.000000</td>\n",
              "      <td>5.924875</td>\n",
              "      <td>124.422375</td>\n",
              "      <td>118.49750</td>\n",
              "      <td>4.761905</td>\n",
              "      <td>5.924875</td>\n",
              "      <td>5.50000</td>\n",
              "    </tr>\n",
              "    <tr>\n",
              "      <th>50%</th>\n",
              "      <td>55.230000</td>\n",
              "      <td>5.000000</td>\n",
              "      <td>12.088000</td>\n",
              "      <td>253.848000</td>\n",
              "      <td>241.76000</td>\n",
              "      <td>4.761905</td>\n",
              "      <td>12.088000</td>\n",
              "      <td>7.00000</td>\n",
              "    </tr>\n",
              "    <tr>\n",
              "      <th>75%</th>\n",
              "      <td>77.935000</td>\n",
              "      <td>8.000000</td>\n",
              "      <td>22.445250</td>\n",
              "      <td>471.350250</td>\n",
              "      <td>448.90500</td>\n",
              "      <td>4.761905</td>\n",
              "      <td>22.445250</td>\n",
              "      <td>8.50000</td>\n",
              "    </tr>\n",
              "    <tr>\n",
              "      <th>max</th>\n",
              "      <td>99.960000</td>\n",
              "      <td>10.000000</td>\n",
              "      <td>49.650000</td>\n",
              "      <td>1042.650000</td>\n",
              "      <td>993.00000</td>\n",
              "      <td>4.761905</td>\n",
              "      <td>49.650000</td>\n",
              "      <td>10.00000</td>\n",
              "    </tr>\n",
              "  </tbody>\n",
              "</table>\n",
              "</div>\n",
              "      <button class=\"colab-df-convert\" onclick=\"convertToInteractive('df-01756118-f204-4901-8a23-8492231a7977')\"\n",
              "              title=\"Convert this dataframe to an interactive table.\"\n",
              "              style=\"display:none;\">\n",
              "        \n",
              "  <svg xmlns=\"http://www.w3.org/2000/svg\" height=\"24px\"viewBox=\"0 0 24 24\"\n",
              "       width=\"24px\">\n",
              "    <path d=\"M0 0h24v24H0V0z\" fill=\"none\"/>\n",
              "    <path d=\"M18.56 5.44l.94 2.06.94-2.06 2.06-.94-2.06-.94-.94-2.06-.94 2.06-2.06.94zm-11 1L8.5 8.5l.94-2.06 2.06-.94-2.06-.94L8.5 2.5l-.94 2.06-2.06.94zm10 10l.94 2.06.94-2.06 2.06-.94-2.06-.94-.94-2.06-.94 2.06-2.06.94z\"/><path d=\"M17.41 7.96l-1.37-1.37c-.4-.4-.92-.59-1.43-.59-.52 0-1.04.2-1.43.59L10.3 9.45l-7.72 7.72c-.78.78-.78 2.05 0 2.83L4 21.41c.39.39.9.59 1.41.59.51 0 1.02-.2 1.41-.59l7.78-7.78 2.81-2.81c.8-.78.8-2.07 0-2.86zM5.41 20L4 18.59l7.72-7.72 1.47 1.35L5.41 20z\"/>\n",
              "  </svg>\n",
              "      </button>\n",
              "      \n",
              "  <style>\n",
              "    .colab-df-container {\n",
              "      display:flex;\n",
              "      flex-wrap:wrap;\n",
              "      gap: 12px;\n",
              "    }\n",
              "\n",
              "    .colab-df-convert {\n",
              "      background-color: #E8F0FE;\n",
              "      border: none;\n",
              "      border-radius: 50%;\n",
              "      cursor: pointer;\n",
              "      display: none;\n",
              "      fill: #1967D2;\n",
              "      height: 32px;\n",
              "      padding: 0 0 0 0;\n",
              "      width: 32px;\n",
              "    }\n",
              "\n",
              "    .colab-df-convert:hover {\n",
              "      background-color: #E2EBFA;\n",
              "      box-shadow: 0px 1px 2px rgba(60, 64, 67, 0.3), 0px 1px 3px 1px rgba(60, 64, 67, 0.15);\n",
              "      fill: #174EA6;\n",
              "    }\n",
              "\n",
              "    [theme=dark] .colab-df-convert {\n",
              "      background-color: #3B4455;\n",
              "      fill: #D2E3FC;\n",
              "    }\n",
              "\n",
              "    [theme=dark] .colab-df-convert:hover {\n",
              "      background-color: #434B5C;\n",
              "      box-shadow: 0px 1px 3px 1px rgba(0, 0, 0, 0.15);\n",
              "      filter: drop-shadow(0px 1px 2px rgba(0, 0, 0, 0.3));\n",
              "      fill: #FFFFFF;\n",
              "    }\n",
              "  </style>\n",
              "\n",
              "      <script>\n",
              "        const buttonEl =\n",
              "          document.querySelector('#df-01756118-f204-4901-8a23-8492231a7977 button.colab-df-convert');\n",
              "        buttonEl.style.display =\n",
              "          google.colab.kernel.accessAllowed ? 'block' : 'none';\n",
              "\n",
              "        async function convertToInteractive(key) {\n",
              "          const element = document.querySelector('#df-01756118-f204-4901-8a23-8492231a7977');\n",
              "          const dataTable =\n",
              "            await google.colab.kernel.invokeFunction('convertToInteractive',\n",
              "                                                     [key], {});\n",
              "          if (!dataTable) return;\n",
              "\n",
              "          const docLinkHtml = 'Like what you see? Visit the ' +\n",
              "            '<a target=\"_blank\" href=https://colab.research.google.com/notebooks/data_table.ipynb>data table notebook</a>'\n",
              "            + ' to learn more about interactive tables.';\n",
              "          element.innerHTML = '';\n",
              "          dataTable['output_type'] = 'display_data';\n",
              "          await google.colab.output.renderOutput(dataTable, element);\n",
              "          const docLink = document.createElement('div');\n",
              "          docLink.innerHTML = docLinkHtml;\n",
              "          element.appendChild(docLink);\n",
              "        }\n",
              "      </script>\n",
              "    </div>\n",
              "  </div>\n",
              "  "
            ]
          },
          "metadata": {},
          "execution_count": 8
        }
      ]
    },
    {
      "cell_type": "markdown",
      "source": [
        "### Exploração dos dados "
      ],
      "metadata": {
        "id": "j_EUR2fg1DmE"
      }
    },
    {
      "cell_type": "markdown",
      "source": [
        "> Por fim, estamos criando um mapa de calor utilizando a biblioteca `seaborn` para visualizar os valores nulos no conjunto de dados. Isso é útil para identificar quais colunas possuem valores ausentes e para decidir como lidar com esses valores durante o pré-processamento dos dados."
      ],
      "metadata": {
        "id": "p2ihrEfzrDCZ"
      }
    },
    {
      "cell_type": "code",
      "source": [
        "vendas_df = vendas_df.dropna()"
      ],
      "metadata": {
        "id": "N0gFKlu43IcY"
      },
      "execution_count": null,
      "outputs": []
    },
    {
      "cell_type": "code",
      "source": [
        "sns.heatmap(vendas_df.isnull());"
      ],
      "metadata": {
        "colab": {
          "base_uri": "https://localhost:8080/",
          "height": 334
        },
        "id": "yoiC4FqXC8OF",
        "outputId": "1e080dd4-e144-468f-d19a-26672966f08b"
      },
      "execution_count": null,
      "outputs": [
        {
          "output_type": "display_data",
          "data": {
            "text/plain": [
              "<Figure size 432x288 with 2 Axes>"
            ],
            "image/png": "[encoded data removed]"
          },
          "metadata": {
            "needs_background": "light"
          }
        }
      ]
    },
    {
      "cell_type": "code",
      "source": [
        "vendas_df['filial'].unique()"
      ],
      "metadata": {
        "colab": {
          "base_uri": "https://localhost:8080/"
        },
        "id": "G1ffRWjguKNn",
        "outputId": "b8b2976c-94ed-4f22-afcf-cad1e970e604"
      },
      "execution_count": null,
      "outputs": [
        {
          "output_type": "execute_result",
          "data": {
            "text/plain": [
              "array(['A', 'C', 'B'], dtype=object)"
            ]
          },
          "metadata": {},
          "execution_count": 11
        }
      ]
    },
    {
      "cell_type": "markdown",
      "source": [
        "> Essa linha de código cria um gráfico de barras utilizando a biblioteca Seaborn para mostrar as vendas totais por filial.\n",
        "\n",
        "> A função `sns.barplot()` é utilizada para criar o gráfico de barras e recebe três parâmetros:\n",
        "\n",
        "*  `x`: a coluna que será utilizada no eixo x do gráfico, neste caso a coluna 'filial' do DataFrame `vendas_df`;\n",
        "\n",
        "\n",
        "*  `y`: a coluna que será utilizada no eixo y do gráfico, neste caso a coluna 'total' do DataFrame `vendas_df`;\n",
        "\n",
        "*  `data`: o DataFrame que contém os dados que serão utilizados no gráfico, neste caso o `vendas_df`.\n",
        "\n",
        "> Dessa forma, o gráfico de barras apresentará no eixo x as filiais (que são os valores únicos da coluna 'filial') e no eixo y as vendas totais correspondentes a cada filial (calculadas pela função de agregação utilizada anteriormente)."
      ],
      "metadata": {
        "id": "oUXWDgJ601iF"
      }
    },
    {
      "cell_type": "code",
      "source": [
        "# Crie um gráfico de barras para mostrar as vendas totais por filial\n",
        "sns.barplot(x='filial', y='total', data=vendas_df);"
      ],
      "metadata": {
        "colab": {
          "base_uri": "https://localhost:8080/",
          "height": 279
        },
        "id": "J8EgP66xug7P",
        "outputId": "6f19c9df-67fa-4253-dd2b-104341bc1949"
      },
      "execution_count": null,
      "outputs": [
        {
          "output_type": "display_data",
          "data": {
            "text/plain": [
              "<Figure size 432x288 with 1 Axes>"
            ],
            "image/png": "[encoded data removed]"
          },
          "metadata": {
            "needs_background": "light"
          }
        }
      ]
    },
    {
      "cell_type": "markdown",
      "source": [
        "> A linha de código em questão faz a conversão do tipo de dados da coluna `'data'` do dataframe `'vendas_df'` de string para datetime usando a função `'to_datetime'` do pandas. Essa função recebe como argumento a coluna a ser convertida e retorna uma série do tipo datetime.\n",
        "\n",
        "> Após a conversão, a segunda linha apenas exibe a coluna `'data'` do dataframe `'vendas_df'`, que agora contém valores do tipo datetime."
      ],
      "metadata": {
        "id": "PwkBf3cgmugr"
      }
    },
    {
      "cell_type": "markdown",
      "source": [
        "Também podemos criar um gráfico de dispersão para visualizar a relação entre preço e avaliação dos produtos:"
      ],
      "metadata": {
        "id": "_CoKHtzPv_8y"
      }
    },
    {
      "cell_type": "code",
      "source": [
        "sns.scatterplot(x='preco_unitario', y='avaliacao', data=vendas_df)\n",
        "plt.title('Preço x Avaliação')\n",
        "plt.show()"
      ],
      "metadata": {
        "colab": {
          "base_uri": "https://localhost:8080/",
          "height": 296
        },
        "id": "awI9Sio6vw5c",
        "outputId": "e2b4252f-172e-4ccc-c035-08ae7ada7e2b"
      },
      "execution_count": null,
      "outputs": [
        {
          "output_type": "display_data",
          "data": {
            "text/plain": [
              "<Figure size 432x288 with 1 Axes>"
            ],
            "image/png": "[encoded data removed]"
          },
          "metadata": {
            "needs_background": "light"
          }
        }
      ]
    },
    {
      "cell_type": "markdown",
      "source": [
        "O código `sns.scatterplot(x='preco_unitario', y='avaliacao', data=vendas_df) `plota um gráfico de dispersão (scatterplot) utilizando o eixo x para o preço_unitário e o eixo y para a avaliação de vendas. O parâmetro data=vendas_df indica que os dados usados para o gráfico estão armazenados no dataframe `vendas_df`.\n",
        "\n",
        "Em seguida, `plt.title('Preço x Avaliação')` adiciona um título ao gráfico, \"Preço x Avaliação\".\n",
        "\n",
        "Finalmente,` plt.show()` exibe o gráfico na tela."
      ],
      "metadata": {
        "id": "xXTm7CCawavl"
      }
    },
    {
      "cell_type": "code",
      "source": [
        "# Conversão para Data\n",
        "vendas_df['data'] =  pd.to_datetime(vendas_df['data']);\n",
        "vendas_df['data']"
      ],
      "metadata": {
        "colab": {
          "base_uri": "https://localhost:8080/"
        },
        "id": "12jhC1Uld0_M",
        "outputId": "ec055f55-87c6-494d-957b-29006ecd3899"
      },
      "execution_count": null,
      "outputs": [
        {
          "output_type": "execute_result",
          "data": {
            "text/plain": [
              "0     2019-01-05\n",
              "1     2019-03-08\n",
              "2     2019-03-03\n",
              "3     2019-01-27\n",
              "4     2019-02-08\n",
              "         ...    \n",
              "995   2019-01-29\n",
              "996   2019-03-02\n",
              "997   2019-02-09\n",
              "998   2019-02-22\n",
              "999   2019-02-18\n",
              "Name: data, Length: 1000, dtype: datetime64[ns]"
            ]
          },
          "metadata": {},
          "execution_count": 13
        }
      ]
    },
    {
      "cell_type": "markdown",
      "source": [
        "> Essas duas linhas de código são usadas para extrair o ano e o mês de uma coluna de datas no DataFrame `vendas_df`usando a biblioteca Pandas do Python.\n",
        "\n",
        "> Na primeira linha, `vendas_df['Mes'] = pd.DatetimeIndex(vendas_df['data']).month`, uma nova coluna chamada 'Mes' é criada no DataFrame `vendas_df`. O `pd.DatetimeIndex()`é uma função da biblioteca Pandas que transforma a coluna de datas `vendas_df['data']`em um objeto DatetimeIndex. O método `.month`é então usado para extrair apenas o mês de cada data e atribuí-lo à coluna 'Mes'.\n",
        "\n",
        ">Na segunda linha, `vendas_df['Ano'] = pd.DatetimeIndex(vendas_df['data']).year`, uma nova coluna chamada 'Ano' é criada no DataFrame `vendas_df`. O mesmo processo é utilizado, mas agora o método `vendas_df`é utilizado para extrair apenas o ano de cada data e atribuí-lo à coluna 'Ano'."
      ],
      "metadata": {
        "id": "m1ZX1MZbn6oj"
      }
    },
    {
      "cell_type": "code",
      "source": [
        "# Extrair o Ano e Mes\n",
        "vendas_df['Mes'] = pd.DatetimeIndex( vendas_df['data'] ).month\n",
        "vendas_df['Ano'] = pd.DatetimeIndex( vendas_df['data'] ).year\n",
        "vendas_df.head(2)"
      ],
      "metadata": {
        "colab": {
          "base_uri": "https://localhost:8080/",
          "height": 228
        },
        "id": "Z_dLlqWpjRgc",
        "outputId": "f6dec148-38ca-4ed8-f0b1-bcdf5c6fa4b8"
      },
      "execution_count": null,
      "outputs": [
        {
          "output_type": "execute_result",
          "data": {
            "text/plain": [
              "    Invoice ID filial     cidade tipo_cliente  genero           linha_produto  \\\n",
              "0  750-67-8428      A     Yangon       Member  Female       Health and beauty   \n",
              "1  226-31-3081      C  Naypyitaw       Normal  Female  Electronic accessories   \n",
              "\n",
              "   preco_unitario  quantidade  Imposto 5%     total       data   hora  \\\n",
              "0           74.69           7     26.1415  548.9715 2019-01-05  13:08   \n",
              "1           15.28           5      3.8200   80.2200 2019-03-08  10:29   \n",
              "\n",
              "  pagamento  custo_total  margem_bruta  renda_bruta  avaliacao  Mes   Ano  \n",
              "0   Ewallet       522.83      4.761905      26.1415        9.1    1  2019  \n",
              "1      Cash        76.40      4.761905       3.8200        9.6    3  2019  "
            ],
            "text/html": [
              "\n",
              "  <div id=\"df-e32d7097-35b1-47ff-9cda-019bb58e6fb4\">\n",
              "    <div class=\"colab-df-container\">\n",
              "      <div>\n",
              "<style scoped>\n",
              "    .dataframe tbody tr th:only-of-type {\n",
              "        vertical-align: middle;\n",
              "    }\n",
              "\n",
              "    .dataframe tbody tr th {\n",
              "        vertical-align: top;\n",
              "    }\n",
              "\n",
              "    .dataframe thead th {\n",
              "        text-align: right;\n",
              "    }\n",
              "</style>\n",
              "<table border=\"1\" class=\"dataframe\">\n",
              "  <thead>\n",
              "    <tr style=\"text-align: right;\">\n",
              "      <th></th>\n",
              "      <th>Invoice ID</th>\n",
              "      <th>filial</th>\n",
              "      <th>cidade</th>\n",
              "      <th>tipo_cliente</th>\n",
              "      <th>genero</th>\n",
              "      <th>linha_produto</th>\n",
              "      <th>preco_unitario</th>\n",
              "      <th>quantidade</th>\n",
              "      <th>Imposto 5%</th>\n",
              "      <th>total</th>\n",
              "      <th>data</th>\n",
              "      <th>hora</th>\n",
              "      <th>pagamento</th>\n",
              "      <th>custo_total</th>\n",
              "      <th>margem_bruta</th>\n",
              "      <th>renda_bruta</th>\n",
              "      <th>avaliacao</th>\n",
              "      <th>Mes</th>\n",
              "      <th>Ano</th>\n",
              "    </tr>\n",
              "  </thead>\n",
              "  <tbody>\n",
              "    <tr>\n",
              "      <th>0</th>\n",
              "      <td>750-67-8428</td>\n",
              "      <td>A</td>\n",
              "      <td>Yangon</td>\n",
              "      <td>Member</td>\n",
              "      <td>Female</td>\n",
              "      <td>Health and beauty</td>\n",
              "      <td>74.69</td>\n",
              "      <td>7</td>\n",
              "      <td>26.1415</td>\n",
              "      <td>548.9715</td>\n",
              "      <td>2019-01-05</td>\n",
              "      <td>13:08</td>\n",
              "      <td>Ewallet</td>\n",
              "      <td>522.83</td>\n",
              "      <td>4.761905</td>\n",
              "      <td>26.1415</td>\n",
              "      <td>9.1</td>\n",
              "      <td>1</td>\n",
              "      <td>2019</td>\n",
              "    </tr>\n",
              "    <tr>\n",
              "      <th>1</th>\n",
              "      <td>226-31-3081</td>\n",
              "      <td>C</td>\n",
              "      <td>Naypyitaw</td>\n",
              "      <td>Normal</td>\n",
              "      <td>Female</td>\n",
              "      <td>Electronic accessories</td>\n",
              "      <td>15.28</td>\n",
              "      <td>5</td>\n",
              "      <td>3.8200</td>\n",
              "      <td>80.2200</td>\n",
              "      <td>2019-03-08</td>\n",
              "      <td>10:29</td>\n",
              "      <td>Cash</td>\n",
              "      <td>76.40</td>\n",
              "      <td>4.761905</td>\n",
              "      <td>3.8200</td>\n",
              "      <td>9.6</td>\n",
              "      <td>3</td>\n",
              "      <td>2019</td>\n",
              "    </tr>\n",
              "  </tbody>\n",
              "</table>\n",
              "</div>\n",
              "      <button class=\"colab-df-convert\" onclick=\"convertToInteractive('df-e32d7097-35b1-47ff-9cda-019bb58e6fb4')\"\n",
              "              title=\"Convert this dataframe to an interactive table.\"\n",
              "              style=\"display:none;\">\n",
              "        \n",
              "  <svg xmlns=\"http://www.w3.org/2000/svg\" height=\"24px\"viewBox=\"0 0 24 24\"\n",
              "       width=\"24px\">\n",
              "    <path d=\"M0 0h24v24H0V0z\" fill=\"none\"/>\n",
              "    <path d=\"M18.56 5.44l.94 2.06.94-2.06 2.06-.94-2.06-.94-.94-2.06-.94 2.06-2.06.94zm-11 1L8.5 8.5l.94-2.06 2.06-.94-2.06-.94L8.5 2.5l-.94 2.06-2.06.94zm10 10l.94 2.06.94-2.06 2.06-.94-2.06-.94-.94-2.06-.94 2.06-2.06.94z\"/><path d=\"M17.41 7.96l-1.37-1.37c-.4-.4-.92-.59-1.43-.59-.52 0-1.04.2-1.43.59L10.3 9.45l-7.72 7.72c-.78.78-.78 2.05 0 2.83L4 21.41c.39.39.9.59 1.41.59.51 0 1.02-.2 1.41-.59l7.78-7.78 2.81-2.81c.8-.78.8-2.07 0-2.86zM5.41 20L4 18.59l7.72-7.72 1.47 1.35L5.41 20z\"/>\n",
              "  </svg>\n",
              "      </button>\n",
              "      \n",
              "  <style>\n",
              "    .colab-df-container {\n",
              "      display:flex;\n",
              "      flex-wrap:wrap;\n",
              "      gap: 12px;\n",
              "    }\n",
              "\n",
              "    .colab-df-convert {\n",
              "      background-color: #E8F0FE;\n",
              "      border: none;\n",
              "      border-radius: 50%;\n",
              "      cursor: pointer;\n",
              "      display: none;\n",
              "      fill: #1967D2;\n",
              "      height: 32px;\n",
              "      padding: 0 0 0 0;\n",
              "      width: 32px;\n",
              "    }\n",
              "\n",
              "    .colab-df-convert:hover {\n",
              "      background-color: #E2EBFA;\n",
              "      box-shadow: 0px 1px 2px rgba(60, 64, 67, 0.3), 0px 1px 3px 1px rgba(60, 64, 67, 0.15);\n",
              "      fill: #174EA6;\n",
              "    }\n",
              "\n",
              "    [theme=dark] .colab-df-convert {\n",
              "      background-color: #3B4455;\n",
              "      fill: #D2E3FC;\n",
              "    }\n",
              "\n",
              "    [theme=dark] .colab-df-convert:hover {\n",
              "      background-color: #434B5C;\n",
              "      box-shadow: 0px 1px 3px 1px rgba(0, 0, 0, 0.15);\n",
              "      filter: drop-shadow(0px 1px 2px rgba(0, 0, 0, 0.3));\n",
              "      fill: #FFFFFF;\n",
              "    }\n",
              "  </style>\n",
              "\n",
              "      <script>\n",
              "        const buttonEl =\n",
              "          document.querySelector('#df-e32d7097-35b1-47ff-9cda-019bb58e6fb4 button.colab-df-convert');\n",
              "        buttonEl.style.display =\n",
              "          google.colab.kernel.accessAllowed ? 'block' : 'none';\n",
              "\n",
              "        async function convertToInteractive(key) {\n",
              "          const element = document.querySelector('#df-e32d7097-35b1-47ff-9cda-019bb58e6fb4');\n",
              "          const dataTable =\n",
              "            await google.colab.kernel.invokeFunction('convertToInteractive',\n",
              "                                                     [key], {});\n",
              "          if (!dataTable) return;\n",
              "\n",
              "          const docLinkHtml = 'Like what you see? Visit the ' +\n",
              "            '<a target=\"_blank\" href=https://colab.research.google.com/notebooks/data_table.ipynb>data table notebook</a>'\n",
              "            + ' to learn more about interactive tables.';\n",
              "          element.innerHTML = '';\n",
              "          dataTable['output_type'] = 'display_data';\n",
              "          await google.colab.output.renderOutput(dataTable, element);\n",
              "          const docLink = document.createElement('div');\n",
              "          docLink.innerHTML = docLinkHtml;\n",
              "          element.appendChild(docLink);\n",
              "        }\n",
              "      </script>\n",
              "    </div>\n",
              "  </div>\n",
              "  "
            ]
          },
          "metadata": {},
          "execution_count": 14
        }
      ]
    },
    {
      "cell_type": "markdown",
      "source": [
        "Em seguida, podemos visualizar a distribuição das vendas ao longo dos meses e filiais utilizando um gráfico de barras com a biblioteca `matplotlib`:"
      ],
      "metadata": {
        "id": "4nStJxaBYjyF"
      }
    },
    {
      "cell_type": "code",
      "source": [
        "plt.figure(figsize=(30,8))\n",
        "vendas_por_mes = vendas_df.groupby(['Mes', 'filial'])['total'].sum().unstack()\n",
        "vendas_por_mes.plot(kind='bar')\n",
        "plt.title('Vendas por mês e filial')\n",
        "plt.xlabel('Mês')\n",
        "plt.ylabel('Vendas')\n",
        "plt.show()"
      ],
      "metadata": {
        "colab": {
          "base_uri": "https://localhost:8080/",
          "height": 309
        },
        "id": "sp_XsaFoWxy0",
        "outputId": "62363882-d4ea-40ad-bdf8-b944b1f0fe84"
      },
      "execution_count": null,
      "outputs": [
        {
          "output_type": "display_data",
          "data": {
            "text/plain": [
              "<Figure size 2160x576 with 0 Axes>"
            ]
          },
          "metadata": {}
        },
        {
          "output_type": "display_data",
          "data": {
            "text/plain": [
              "<Figure size 432x288 with 1 Axes>"
            ],
            "image/png": "[encoded data removed]"
          },
          "metadata": {
            "needs_background": "light"
          }
        }
      ]
    },
    {
      "cell_type": "markdown",
      "source": [
        "Podemos ainda criar um gráfico de correlação para identificar quais variáveis têm uma forte correlação positiva ou negativa entre si:"
      ],
      "metadata": {
        "id": "Saw9kdE8ZPJd"
      }
    },
    {
      "cell_type": "code",
      "source": [
        "plt.figure(figsize=(10,8))\n",
        "sns.heatmap(vendas_df.corr(), annot=True, cmap='coolwarm')\n",
        "plt.title('Correlação das Variáveis')\n",
        "plt.show()"
      ],
      "metadata": {
        "colab": {
          "base_uri": "https://localhost:8080/",
          "height": 562
        },
        "id": "YRIoLtwDYzIt",
        "outputId": "846164ab-490b-42ef-b53a-d7e3121507d1"
      },
      "execution_count": null,
      "outputs": [
        {
          "output_type": "display_data",
          "data": {
            "text/plain": [
              "<Figure size 720x576 with 2 Axes>"
            ],
            "image/png": "[encoded data removed]"
          },
          "metadata": {
            "needs_background": "light"
          }
        }
      ]
    },
    {
      "cell_type": "markdown",
      "source": [
        "Este código utiliza a biblioteca Seaborn e Matplotlib para criar um mapa de calor (heatmap) da matriz de correlação dos dados do DataFrame `vendas_df`.\n",
        "\n",
        "A função `vendas_df.corr()` retorna uma matriz de correlação, que mostra a relação entre todas as variáveis numéricas do DataFrame `vendas_df`. Cada célula da matriz representa a correlação entre duas variáveis, variando de -1 (correlação negativa perfeita) a 1 (correlação positiva perfeita), enquanto 0 indica nenhuma correlação.\n"
      ],
      "metadata": {
        "id": "hfRqRlKNjR-w"
      }
    },
    {
      "cell_type": "markdown",
      "source": [
        "Por fim, podemos aplicar técnicas de análise preditiva, como a regressão linear, para prever as vendas futuras com base nas informações históricas. Para isso, primeiro criaremos um conjunto de dados de treinamento e teste:"
      ],
      "metadata": {
        "id": "1OdkHGzNaaOl"
      }
    },
    {
      "cell_type": "code",
      "source": [
        "from sklearn.model_selection import train_test_split\n",
        "\n",
        "X = vendas_df[['preco_unitario', 'quantidade', 'custo_total', 'renda_bruta']]\n",
        "y = vendas_df['total']\n",
        "\n",
        "X_train, X_test, y_train, y_test = train_test_split(X, y, test_size=0.2, random_state=42)\n"
      ],
      "metadata": {
        "id": "shycRiOfZcAE"
      },
      "execution_count": null,
      "outputs": []
    },
    {
      "cell_type": "markdown",
      "source": [
        "Em seguida, treinaremos nosso modelo de regressão linear e avaliaremos seu desempenho:"
      ],
      "metadata": {
        "id": "BqMYWSmUajRV"
      }
    },
    {
      "cell_type": "code",
      "source": [
        "from sklearn.linear_model import LinearRegression\n",
        "from sklearn.metrics import r2_score\n",
        "\n",
        "reg = LinearRegression()\n",
        "reg.fit(X_train, y_train)\n",
        "y_pred = reg.predict(X_test)\n",
        "\n",
        "print('R2 Score:', r2_score(y_test, y_pred))\n"
      ],
      "metadata": {
        "colab": {
          "base_uri": "https://localhost:8080/"
        },
        "id": "0ba3y0gJZmA1",
        "outputId": "391dadbe-2399-4e80-dc05-1066e5fe4549"
      },
      "execution_count": null,
      "outputs": [
        {
          "output_type": "stream",
          "name": "stdout",
          "text": [
            "R2 Score: 1.0\n"
          ]
        }
      ]
    },
    {
      "cell_type": "markdown",
      "source": [
        "Com esta análise, podemos entender melhor as vendas da empresa de supermercados, visualizar as informações e aplicar técnicas de análise preditiva para prever as vendas futuras."
      ],
      "metadata": {
        "id": "9v4aw_OWJww3"
      }
    }
  ]
}